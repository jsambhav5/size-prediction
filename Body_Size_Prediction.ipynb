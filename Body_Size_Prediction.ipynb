{
 "cells": [
  {
   "cell_type": "markdown",
   "metadata": {
    "colab_type": "text",
    "id": "view-in-github"
   },
   "source": [
    "<a href=\"https://colab.research.google.com/github/jsambhav5/size-prediction/blob/main/Body_Size_Prediction.ipynb\" target=\"_parent\"><img src=\"https://colab.research.google.com/assets/colab-badge.svg\" alt=\"Open In Colab\"/></a>"
   ]
  },
  {
   "cell_type": "code",
   "execution_count": 1,
   "metadata": {
    "id": "_OTWIGZ2efuo"
   },
   "outputs": [],
   "source": [
    "import pandas as pd\n",
    "import numpy as np\n",
    "import matplotlib.pyplot as plt\n",
    "import seaborn as sns\n",
    "from pathlib import Path"
   ]
  },
  {
   "cell_type": "code",
   "execution_count": 2,
   "metadata": {
    "colab": {
     "base_uri": "https://localhost:8080/",
     "height": 461
    },
    "id": "X4TvhH07hi4M",
    "outputId": "4c4c5cb6-7dd0-40ae-df1d-c4b001698abc"
   },
   "outputs": [
    {
     "data": {
      "text/html": [
       "<div>\n",
       "<style scoped>\n",
       "    .dataframe tbody tr th:only-of-type {\n",
       "        vertical-align: middle;\n",
       "    }\n",
       "\n",
       "    .dataframe tbody tr th {\n",
       "        vertical-align: top;\n",
       "    }\n",
       "\n",
       "    .dataframe thead th {\n",
       "        text-align: right;\n",
       "    }\n",
       "</style>\n",
       "<table border=\"1\" class=\"dataframe\">\n",
       "  <thead>\n",
       "    <tr style=\"text-align: right;\">\n",
       "      <th></th>\n",
       "      <th>Gender</th>\n",
       "      <th>HeadCircumference</th>\n",
       "      <th>ShoulderWidth</th>\n",
       "      <th>ChestWidth</th>\n",
       "      <th>Belly</th>\n",
       "      <th>Waist</th>\n",
       "      <th>Hips</th>\n",
       "      <th>ArmLength</th>\n",
       "      <th>ShoulderToWaist</th>\n",
       "      <th>WaistToKnee</th>\n",
       "      <th>LegLength</th>\n",
       "      <th>TotalHeight</th>\n",
       "      <th>Size</th>\n",
       "    </tr>\n",
       "  </thead>\n",
       "  <tbody>\n",
       "    <tr>\n",
       "      <th>0</th>\n",
       "      <td>1.0</td>\n",
       "      <td>40.0</td>\n",
       "      <td>18.0</td>\n",
       "      <td>20.0</td>\n",
       "      <td>18.0</td>\n",
       "      <td>14.0</td>\n",
       "      <td>22.0</td>\n",
       "      <td>22.0</td>\n",
       "      <td>25.0</td>\n",
       "      <td>25.0</td>\n",
       "      <td>22.0</td>\n",
       "      <td>52.0</td>\n",
       "      <td>L</td>\n",
       "    </tr>\n",
       "    <tr>\n",
       "      <th>1</th>\n",
       "      <td>1.0</td>\n",
       "      <td>19.0</td>\n",
       "      <td>22.0</td>\n",
       "      <td>17.0</td>\n",
       "      <td>18.0</td>\n",
       "      <td>21.0</td>\n",
       "      <td>25.0</td>\n",
       "      <td>28.0</td>\n",
       "      <td>23.0</td>\n",
       "      <td>25.0</td>\n",
       "      <td>20.0</td>\n",
       "      <td>56.0</td>\n",
       "      <td>M</td>\n",
       "    </tr>\n",
       "    <tr>\n",
       "      <th>2</th>\n",
       "      <td>2.0</td>\n",
       "      <td>21.0</td>\n",
       "      <td>18.0</td>\n",
       "      <td>16.0</td>\n",
       "      <td>14.0</td>\n",
       "      <td>10.0</td>\n",
       "      <td>15.0</td>\n",
       "      <td>21.0</td>\n",
       "      <td>18.0</td>\n",
       "      <td>14.0</td>\n",
       "      <td>18.0</td>\n",
       "      <td>53.0</td>\n",
       "      <td>L</td>\n",
       "    </tr>\n",
       "    <tr>\n",
       "      <th>3</th>\n",
       "      <td>1.0</td>\n",
       "      <td>20.0</td>\n",
       "      <td>20.0</td>\n",
       "      <td>18.0</td>\n",
       "      <td>11.0</td>\n",
       "      <td>19.0</td>\n",
       "      <td>14.0</td>\n",
       "      <td>24.0</td>\n",
       "      <td>21.0</td>\n",
       "      <td>20.0</td>\n",
       "      <td>21.0</td>\n",
       "      <td>45.0</td>\n",
       "      <td>M</td>\n",
       "    </tr>\n",
       "    <tr>\n",
       "      <th>4</th>\n",
       "      <td>2.0</td>\n",
       "      <td>16.0</td>\n",
       "      <td>14.0</td>\n",
       "      <td>18.0</td>\n",
       "      <td>13.0</td>\n",
       "      <td>11.0</td>\n",
       "      <td>30.0</td>\n",
       "      <td>25.0</td>\n",
       "      <td>22.0</td>\n",
       "      <td>32.0</td>\n",
       "      <td>13.0</td>\n",
       "      <td>47.0</td>\n",
       "      <td>M</td>\n",
       "    </tr>\n",
       "    <tr>\n",
       "      <th>...</th>\n",
       "      <td>...</td>\n",
       "      <td>...</td>\n",
       "      <td>...</td>\n",
       "      <td>...</td>\n",
       "      <td>...</td>\n",
       "      <td>...</td>\n",
       "      <td>...</td>\n",
       "      <td>...</td>\n",
       "      <td>...</td>\n",
       "      <td>...</td>\n",
       "      <td>...</td>\n",
       "      <td>...</td>\n",
       "      <td>...</td>\n",
       "    </tr>\n",
       "    <tr>\n",
       "      <th>994</th>\n",
       "      <td>NaN</td>\n",
       "      <td>NaN</td>\n",
       "      <td>NaN</td>\n",
       "      <td>NaN</td>\n",
       "      <td>NaN</td>\n",
       "      <td>NaN</td>\n",
       "      <td>NaN</td>\n",
       "      <td>NaN</td>\n",
       "      <td>NaN</td>\n",
       "      <td>NaN</td>\n",
       "      <td>NaN</td>\n",
       "      <td>NaN</td>\n",
       "      <td>NaN</td>\n",
       "    </tr>\n",
       "    <tr>\n",
       "      <th>995</th>\n",
       "      <td>NaN</td>\n",
       "      <td>NaN</td>\n",
       "      <td>NaN</td>\n",
       "      <td>NaN</td>\n",
       "      <td>NaN</td>\n",
       "      <td>NaN</td>\n",
       "      <td>NaN</td>\n",
       "      <td>NaN</td>\n",
       "      <td>NaN</td>\n",
       "      <td>NaN</td>\n",
       "      <td>NaN</td>\n",
       "      <td>NaN</td>\n",
       "      <td>NaN</td>\n",
       "    </tr>\n",
       "    <tr>\n",
       "      <th>996</th>\n",
       "      <td>NaN</td>\n",
       "      <td>NaN</td>\n",
       "      <td>NaN</td>\n",
       "      <td>NaN</td>\n",
       "      <td>NaN</td>\n",
       "      <td>NaN</td>\n",
       "      <td>NaN</td>\n",
       "      <td>NaN</td>\n",
       "      <td>NaN</td>\n",
       "      <td>NaN</td>\n",
       "      <td>NaN</td>\n",
       "      <td>NaN</td>\n",
       "      <td>NaN</td>\n",
       "    </tr>\n",
       "    <tr>\n",
       "      <th>997</th>\n",
       "      <td>NaN</td>\n",
       "      <td>NaN</td>\n",
       "      <td>NaN</td>\n",
       "      <td>NaN</td>\n",
       "      <td>NaN</td>\n",
       "      <td>NaN</td>\n",
       "      <td>NaN</td>\n",
       "      <td>NaN</td>\n",
       "      <td>NaN</td>\n",
       "      <td>NaN</td>\n",
       "      <td>NaN</td>\n",
       "      <td>NaN</td>\n",
       "      <td>NaN</td>\n",
       "    </tr>\n",
       "    <tr>\n",
       "      <th>998</th>\n",
       "      <td>NaN</td>\n",
       "      <td>NaN</td>\n",
       "      <td>NaN</td>\n",
       "      <td>NaN</td>\n",
       "      <td>NaN</td>\n",
       "      <td>NaN</td>\n",
       "      <td>NaN</td>\n",
       "      <td>NaN</td>\n",
       "      <td>NaN</td>\n",
       "      <td>NaN</td>\n",
       "      <td>NaN</td>\n",
       "      <td>NaN</td>\n",
       "      <td>NaN</td>\n",
       "    </tr>\n",
       "  </tbody>\n",
       "</table>\n",
       "<p>999 rows × 13 columns</p>\n",
       "</div>"
      ],
      "text/plain": [
       "     Gender  HeadCircumference  ShoulderWidth  ChestWidth  Belly  Waist  Hips  \\\n",
       "0       1.0               40.0           18.0        20.0   18.0   14.0  22.0   \n",
       "1       1.0               19.0           22.0        17.0   18.0   21.0  25.0   \n",
       "2       2.0               21.0           18.0        16.0   14.0   10.0  15.0   \n",
       "3       1.0               20.0           20.0        18.0   11.0   19.0  14.0   \n",
       "4       2.0               16.0           14.0        18.0   13.0   11.0  30.0   \n",
       "..      ...                ...            ...         ...    ...    ...   ...   \n",
       "994     NaN                NaN            NaN         NaN    NaN    NaN   NaN   \n",
       "995     NaN                NaN            NaN         NaN    NaN    NaN   NaN   \n",
       "996     NaN                NaN            NaN         NaN    NaN    NaN   NaN   \n",
       "997     NaN                NaN            NaN         NaN    NaN    NaN   NaN   \n",
       "998     NaN                NaN            NaN         NaN    NaN    NaN   NaN   \n",
       "\n",
       "     ArmLength  ShoulderToWaist  WaistToKnee  LegLength  TotalHeight Size  \n",
       "0         22.0             25.0         25.0       22.0         52.0    L  \n",
       "1         28.0             23.0         25.0       20.0         56.0    M  \n",
       "2         21.0             18.0         14.0       18.0         53.0    L  \n",
       "3         24.0             21.0         20.0       21.0         45.0    M  \n",
       "4         25.0             22.0         32.0       13.0         47.0    M  \n",
       "..         ...              ...          ...        ...          ...  ...  \n",
       "994        NaN              NaN          NaN        NaN          NaN  NaN  \n",
       "995        NaN              NaN          NaN        NaN          NaN  NaN  \n",
       "996        NaN              NaN          NaN        NaN          NaN  NaN  \n",
       "997        NaN              NaN          NaN        NaN          NaN  NaN  \n",
       "998        NaN              NaN          NaN        NaN          NaN  NaN  \n",
       "\n",
       "[999 rows x 13 columns]"
      ]
     },
     "execution_count": 2,
     "metadata": {},
     "output_type": "execute_result"
    }
   ],
   "source": [
    "dataset = Path(\"__file__\").parents[0].joinpath('datasets/Body_Measurements_original.csv')\n",
    "df = pd.read_csv(dataset)\n",
    "df"
   ]
  },
  {
   "cell_type": "code",
   "execution_count": 3,
   "metadata": {
    "colab": {
     "base_uri": "https://localhost:8080/"
    },
    "id": "FZeKtM32hoBD",
    "outputId": "a027cf46-dc4b-447a-80e9-41d76e3e34d5"
   },
   "outputs": [
    {
     "data": {
      "text/plain": [
       "Index(['Gender', 'HeadCircumference', 'ShoulderWidth', 'ChestWidth', 'Belly',\n",
       "       'Waist', 'Hips', 'ArmLength', 'ShoulderToWaist', 'WaistToKnee',\n",
       "       'LegLength', 'TotalHeight', 'Size'],\n",
       "      dtype='object')"
      ]
     },
     "execution_count": 3,
     "metadata": {},
     "output_type": "execute_result"
    }
   ],
   "source": [
    "df.columns"
   ]
  },
  {
   "cell_type": "code",
   "execution_count": 4,
   "metadata": {
    "colab": {
     "base_uri": "https://localhost:8080/",
     "height": 423
    },
    "id": "IgI6uMGPiPqD",
    "outputId": "d6ddd604-478f-4c00-bd19-6277f16475cc"
   },
   "outputs": [
    {
     "data": {
      "text/html": [
       "<div>\n",
       "<style scoped>\n",
       "    .dataframe tbody tr th:only-of-type {\n",
       "        vertical-align: middle;\n",
       "    }\n",
       "\n",
       "    .dataframe tbody tr th {\n",
       "        vertical-align: top;\n",
       "    }\n",
       "\n",
       "    .dataframe thead th {\n",
       "        text-align: right;\n",
       "    }\n",
       "</style>\n",
       "<table border=\"1\" class=\"dataframe\">\n",
       "  <thead>\n",
       "    <tr style=\"text-align: right;\">\n",
       "      <th></th>\n",
       "      <th>Gender</th>\n",
       "      <th>HeadCircumference</th>\n",
       "      <th>ShoulderWidth</th>\n",
       "      <th>ChestWidth</th>\n",
       "      <th>Belly</th>\n",
       "      <th>Waist</th>\n",
       "      <th>Hips</th>\n",
       "      <th>ArmLength</th>\n",
       "      <th>ShoulderToWaist</th>\n",
       "      <th>WaistToKnee</th>\n",
       "      <th>LegLength</th>\n",
       "      <th>TotalHeight</th>\n",
       "      <th>Size</th>\n",
       "    </tr>\n",
       "  </thead>\n",
       "  <tbody>\n",
       "    <tr>\n",
       "      <th>0</th>\n",
       "      <td>1.0</td>\n",
       "      <td>40.0</td>\n",
       "      <td>18.0</td>\n",
       "      <td>20.0</td>\n",
       "      <td>18.0</td>\n",
       "      <td>14.0</td>\n",
       "      <td>22.0</td>\n",
       "      <td>22.0</td>\n",
       "      <td>25.0</td>\n",
       "      <td>25.0</td>\n",
       "      <td>22.0</td>\n",
       "      <td>52.0</td>\n",
       "      <td>L</td>\n",
       "    </tr>\n",
       "    <tr>\n",
       "      <th>1</th>\n",
       "      <td>1.0</td>\n",
       "      <td>19.0</td>\n",
       "      <td>22.0</td>\n",
       "      <td>17.0</td>\n",
       "      <td>18.0</td>\n",
       "      <td>21.0</td>\n",
       "      <td>25.0</td>\n",
       "      <td>28.0</td>\n",
       "      <td>23.0</td>\n",
       "      <td>25.0</td>\n",
       "      <td>20.0</td>\n",
       "      <td>56.0</td>\n",
       "      <td>M</td>\n",
       "    </tr>\n",
       "    <tr>\n",
       "      <th>2</th>\n",
       "      <td>2.0</td>\n",
       "      <td>21.0</td>\n",
       "      <td>18.0</td>\n",
       "      <td>16.0</td>\n",
       "      <td>14.0</td>\n",
       "      <td>10.0</td>\n",
       "      <td>15.0</td>\n",
       "      <td>21.0</td>\n",
       "      <td>18.0</td>\n",
       "      <td>14.0</td>\n",
       "      <td>18.0</td>\n",
       "      <td>53.0</td>\n",
       "      <td>L</td>\n",
       "    </tr>\n",
       "    <tr>\n",
       "      <th>3</th>\n",
       "      <td>1.0</td>\n",
       "      <td>20.0</td>\n",
       "      <td>20.0</td>\n",
       "      <td>18.0</td>\n",
       "      <td>11.0</td>\n",
       "      <td>19.0</td>\n",
       "      <td>14.0</td>\n",
       "      <td>24.0</td>\n",
       "      <td>21.0</td>\n",
       "      <td>20.0</td>\n",
       "      <td>21.0</td>\n",
       "      <td>45.0</td>\n",
       "      <td>M</td>\n",
       "    </tr>\n",
       "    <tr>\n",
       "      <th>4</th>\n",
       "      <td>2.0</td>\n",
       "      <td>16.0</td>\n",
       "      <td>14.0</td>\n",
       "      <td>18.0</td>\n",
       "      <td>13.0</td>\n",
       "      <td>11.0</td>\n",
       "      <td>30.0</td>\n",
       "      <td>25.0</td>\n",
       "      <td>22.0</td>\n",
       "      <td>32.0</td>\n",
       "      <td>13.0</td>\n",
       "      <td>47.0</td>\n",
       "      <td>M</td>\n",
       "    </tr>\n",
       "    <tr>\n",
       "      <th>...</th>\n",
       "      <td>...</td>\n",
       "      <td>...</td>\n",
       "      <td>...</td>\n",
       "      <td>...</td>\n",
       "      <td>...</td>\n",
       "      <td>...</td>\n",
       "      <td>...</td>\n",
       "      <td>...</td>\n",
       "      <td>...</td>\n",
       "      <td>...</td>\n",
       "      <td>...</td>\n",
       "      <td>...</td>\n",
       "      <td>...</td>\n",
       "    </tr>\n",
       "    <tr>\n",
       "      <th>994</th>\n",
       "      <td>NaN</td>\n",
       "      <td>NaN</td>\n",
       "      <td>NaN</td>\n",
       "      <td>NaN</td>\n",
       "      <td>NaN</td>\n",
       "      <td>NaN</td>\n",
       "      <td>NaN</td>\n",
       "      <td>NaN</td>\n",
       "      <td>NaN</td>\n",
       "      <td>NaN</td>\n",
       "      <td>NaN</td>\n",
       "      <td>NaN</td>\n",
       "      <td>NaN</td>\n",
       "    </tr>\n",
       "    <tr>\n",
       "      <th>995</th>\n",
       "      <td>NaN</td>\n",
       "      <td>NaN</td>\n",
       "      <td>NaN</td>\n",
       "      <td>NaN</td>\n",
       "      <td>NaN</td>\n",
       "      <td>NaN</td>\n",
       "      <td>NaN</td>\n",
       "      <td>NaN</td>\n",
       "      <td>NaN</td>\n",
       "      <td>NaN</td>\n",
       "      <td>NaN</td>\n",
       "      <td>NaN</td>\n",
       "      <td>NaN</td>\n",
       "    </tr>\n",
       "    <tr>\n",
       "      <th>996</th>\n",
       "      <td>NaN</td>\n",
       "      <td>NaN</td>\n",
       "      <td>NaN</td>\n",
       "      <td>NaN</td>\n",
       "      <td>NaN</td>\n",
       "      <td>NaN</td>\n",
       "      <td>NaN</td>\n",
       "      <td>NaN</td>\n",
       "      <td>NaN</td>\n",
       "      <td>NaN</td>\n",
       "      <td>NaN</td>\n",
       "      <td>NaN</td>\n",
       "      <td>NaN</td>\n",
       "    </tr>\n",
       "    <tr>\n",
       "      <th>997</th>\n",
       "      <td>NaN</td>\n",
       "      <td>NaN</td>\n",
       "      <td>NaN</td>\n",
       "      <td>NaN</td>\n",
       "      <td>NaN</td>\n",
       "      <td>NaN</td>\n",
       "      <td>NaN</td>\n",
       "      <td>NaN</td>\n",
       "      <td>NaN</td>\n",
       "      <td>NaN</td>\n",
       "      <td>NaN</td>\n",
       "      <td>NaN</td>\n",
       "      <td>NaN</td>\n",
       "    </tr>\n",
       "    <tr>\n",
       "      <th>998</th>\n",
       "      <td>NaN</td>\n",
       "      <td>NaN</td>\n",
       "      <td>NaN</td>\n",
       "      <td>NaN</td>\n",
       "      <td>NaN</td>\n",
       "      <td>NaN</td>\n",
       "      <td>NaN</td>\n",
       "      <td>NaN</td>\n",
       "      <td>NaN</td>\n",
       "      <td>NaN</td>\n",
       "      <td>NaN</td>\n",
       "      <td>NaN</td>\n",
       "      <td>NaN</td>\n",
       "    </tr>\n",
       "  </tbody>\n",
       "</table>\n",
       "<p>999 rows × 13 columns</p>\n",
       "</div>"
      ],
      "text/plain": [
       "     Gender  HeadCircumference  ShoulderWidth  ChestWidth  Belly  Waist  Hips  \\\n",
       "0       1.0               40.0           18.0        20.0   18.0   14.0  22.0   \n",
       "1       1.0               19.0           22.0        17.0   18.0   21.0  25.0   \n",
       "2       2.0               21.0           18.0        16.0   14.0   10.0  15.0   \n",
       "3       1.0               20.0           20.0        18.0   11.0   19.0  14.0   \n",
       "4       2.0               16.0           14.0        18.0   13.0   11.0  30.0   \n",
       "..      ...                ...            ...         ...    ...    ...   ...   \n",
       "994     NaN                NaN            NaN         NaN    NaN    NaN   NaN   \n",
       "995     NaN                NaN            NaN         NaN    NaN    NaN   NaN   \n",
       "996     NaN                NaN            NaN         NaN    NaN    NaN   NaN   \n",
       "997     NaN                NaN            NaN         NaN    NaN    NaN   NaN   \n",
       "998     NaN                NaN            NaN         NaN    NaN    NaN   NaN   \n",
       "\n",
       "     ArmLength  ShoulderToWaist  WaistToKnee  LegLength  TotalHeight Size  \n",
       "0         22.0             25.0         25.0       22.0         52.0    L  \n",
       "1         28.0             23.0         25.0       20.0         56.0    M  \n",
       "2         21.0             18.0         14.0       18.0         53.0    L  \n",
       "3         24.0             21.0         20.0       21.0         45.0    M  \n",
       "4         25.0             22.0         32.0       13.0         47.0    M  \n",
       "..         ...              ...          ...        ...          ...  ...  \n",
       "994        NaN              NaN          NaN        NaN          NaN  NaN  \n",
       "995        NaN              NaN          NaN        NaN          NaN  NaN  \n",
       "996        NaN              NaN          NaN        NaN          NaN  NaN  \n",
       "997        NaN              NaN          NaN        NaN          NaN  NaN  \n",
       "998        NaN              NaN          NaN        NaN          NaN  NaN  \n",
       "\n",
       "[999 rows x 13 columns]"
      ]
     },
     "execution_count": 4,
     "metadata": {},
     "output_type": "execute_result"
    }
   ],
   "source": [
    "df\n"
   ]
  },
  {
   "cell_type": "code",
   "execution_count": 5,
   "metadata": {
    "colab": {
     "base_uri": "https://localhost:8080/",
     "height": 682
    },
    "id": "zL2YLVarieDz",
    "outputId": "8638c1f1-aefd-46a6-b414-9dfddce7b26d"
   },
   "outputs": [
    {
     "data": {
      "text/html": [
       "<div>\n",
       "<style scoped>\n",
       "    .dataframe tbody tr th:only-of-type {\n",
       "        vertical-align: middle;\n",
       "    }\n",
       "\n",
       "    .dataframe tbody tr th {\n",
       "        vertical-align: top;\n",
       "    }\n",
       "\n",
       "    .dataframe thead th {\n",
       "        text-align: right;\n",
       "    }\n",
       "</style>\n",
       "<table border=\"1\" class=\"dataframe\">\n",
       "  <thead>\n",
       "    <tr style=\"text-align: right;\">\n",
       "      <th></th>\n",
       "      <th>Gender</th>\n",
       "      <th>HeadCircumference</th>\n",
       "      <th>ShoulderWidth</th>\n",
       "      <th>ChestWidth</th>\n",
       "      <th>Belly</th>\n",
       "      <th>Waist</th>\n",
       "      <th>Hips</th>\n",
       "      <th>ArmLength</th>\n",
       "      <th>ShoulderToWaist</th>\n",
       "      <th>WaistToKnee</th>\n",
       "      <th>LegLength</th>\n",
       "      <th>TotalHeight</th>\n",
       "      <th>Size</th>\n",
       "    </tr>\n",
       "  </thead>\n",
       "  <tbody>\n",
       "    <tr>\n",
       "      <th>0</th>\n",
       "      <td>1.0</td>\n",
       "      <td>40.0</td>\n",
       "      <td>18.0</td>\n",
       "      <td>20.0</td>\n",
       "      <td>18.0</td>\n",
       "      <td>14.0</td>\n",
       "      <td>22.0</td>\n",
       "      <td>22.0</td>\n",
       "      <td>25.0</td>\n",
       "      <td>25.0</td>\n",
       "      <td>22.0</td>\n",
       "      <td>52.0</td>\n",
       "      <td>L</td>\n",
       "    </tr>\n",
       "    <tr>\n",
       "      <th>1</th>\n",
       "      <td>1.0</td>\n",
       "      <td>19.0</td>\n",
       "      <td>22.0</td>\n",
       "      <td>17.0</td>\n",
       "      <td>18.0</td>\n",
       "      <td>21.0</td>\n",
       "      <td>25.0</td>\n",
       "      <td>28.0</td>\n",
       "      <td>23.0</td>\n",
       "      <td>25.0</td>\n",
       "      <td>20.0</td>\n",
       "      <td>56.0</td>\n",
       "      <td>M</td>\n",
       "    </tr>\n",
       "    <tr>\n",
       "      <th>2</th>\n",
       "      <td>2.0</td>\n",
       "      <td>21.0</td>\n",
       "      <td>18.0</td>\n",
       "      <td>16.0</td>\n",
       "      <td>14.0</td>\n",
       "      <td>10.0</td>\n",
       "      <td>15.0</td>\n",
       "      <td>21.0</td>\n",
       "      <td>18.0</td>\n",
       "      <td>14.0</td>\n",
       "      <td>18.0</td>\n",
       "      <td>53.0</td>\n",
       "      <td>L</td>\n",
       "    </tr>\n",
       "    <tr>\n",
       "      <th>3</th>\n",
       "      <td>1.0</td>\n",
       "      <td>20.0</td>\n",
       "      <td>20.0</td>\n",
       "      <td>18.0</td>\n",
       "      <td>11.0</td>\n",
       "      <td>19.0</td>\n",
       "      <td>14.0</td>\n",
       "      <td>24.0</td>\n",
       "      <td>21.0</td>\n",
       "      <td>20.0</td>\n",
       "      <td>21.0</td>\n",
       "      <td>45.0</td>\n",
       "      <td>M</td>\n",
       "    </tr>\n",
       "    <tr>\n",
       "      <th>4</th>\n",
       "      <td>2.0</td>\n",
       "      <td>16.0</td>\n",
       "      <td>14.0</td>\n",
       "      <td>18.0</td>\n",
       "      <td>13.0</td>\n",
       "      <td>11.0</td>\n",
       "      <td>30.0</td>\n",
       "      <td>25.0</td>\n",
       "      <td>22.0</td>\n",
       "      <td>32.0</td>\n",
       "      <td>13.0</td>\n",
       "      <td>47.0</td>\n",
       "      <td>M</td>\n",
       "    </tr>\n",
       "    <tr>\n",
       "      <th>...</th>\n",
       "      <td>...</td>\n",
       "      <td>...</td>\n",
       "      <td>...</td>\n",
       "      <td>...</td>\n",
       "      <td>...</td>\n",
       "      <td>...</td>\n",
       "      <td>...</td>\n",
       "      <td>...</td>\n",
       "      <td>...</td>\n",
       "      <td>...</td>\n",
       "      <td>...</td>\n",
       "      <td>...</td>\n",
       "      <td>...</td>\n",
       "    </tr>\n",
       "    <tr>\n",
       "      <th>394</th>\n",
       "      <td>1.0</td>\n",
       "      <td>18.0</td>\n",
       "      <td>18.0</td>\n",
       "      <td>9.0</td>\n",
       "      <td>19.0</td>\n",
       "      <td>12.0</td>\n",
       "      <td>9.0</td>\n",
       "      <td>14.0</td>\n",
       "      <td>11.0</td>\n",
       "      <td>13.0</td>\n",
       "      <td>21.0</td>\n",
       "      <td>42.0</td>\n",
       "      <td>L</td>\n",
       "    </tr>\n",
       "    <tr>\n",
       "      <th>395</th>\n",
       "      <td>1.0</td>\n",
       "      <td>20.0</td>\n",
       "      <td>12.0</td>\n",
       "      <td>9.0</td>\n",
       "      <td>10.0</td>\n",
       "      <td>23.0</td>\n",
       "      <td>10.0</td>\n",
       "      <td>12.0</td>\n",
       "      <td>17.0</td>\n",
       "      <td>12.0</td>\n",
       "      <td>22.0</td>\n",
       "      <td>45.0</td>\n",
       "      <td>M</td>\n",
       "    </tr>\n",
       "    <tr>\n",
       "      <th>396</th>\n",
       "      <td>1.0</td>\n",
       "      <td>21.0</td>\n",
       "      <td>13.0</td>\n",
       "      <td>11.0</td>\n",
       "      <td>10.0</td>\n",
       "      <td>21.0</td>\n",
       "      <td>10.0</td>\n",
       "      <td>13.0</td>\n",
       "      <td>17.0</td>\n",
       "      <td>12.0</td>\n",
       "      <td>22.0</td>\n",
       "      <td>45.0</td>\n",
       "      <td>M</td>\n",
       "    </tr>\n",
       "    <tr>\n",
       "      <th>397</th>\n",
       "      <td>1.0</td>\n",
       "      <td>20.0</td>\n",
       "      <td>17.0</td>\n",
       "      <td>11.0</td>\n",
       "      <td>22.0</td>\n",
       "      <td>22.0</td>\n",
       "      <td>22.0</td>\n",
       "      <td>17.0</td>\n",
       "      <td>12.0</td>\n",
       "      <td>12.0</td>\n",
       "      <td>22.0</td>\n",
       "      <td>40.0</td>\n",
       "      <td>S</td>\n",
       "    </tr>\n",
       "    <tr>\n",
       "      <th>398</th>\n",
       "      <td>1.0</td>\n",
       "      <td>20.0</td>\n",
       "      <td>9.0</td>\n",
       "      <td>9.0</td>\n",
       "      <td>20.0</td>\n",
       "      <td>20.0</td>\n",
       "      <td>10.0</td>\n",
       "      <td>14.0</td>\n",
       "      <td>11.0</td>\n",
       "      <td>9.0</td>\n",
       "      <td>17.0</td>\n",
       "      <td>37.0</td>\n",
       "      <td>M</td>\n",
       "    </tr>\n",
       "  </tbody>\n",
       "</table>\n",
       "<p>399 rows × 13 columns</p>\n",
       "</div>"
      ],
      "text/plain": [
       "     Gender  HeadCircumference  ShoulderWidth  ChestWidth  Belly  Waist  Hips  \\\n",
       "0       1.0               40.0           18.0        20.0   18.0   14.0  22.0   \n",
       "1       1.0               19.0           22.0        17.0   18.0   21.0  25.0   \n",
       "2       2.0               21.0           18.0        16.0   14.0   10.0  15.0   \n",
       "3       1.0               20.0           20.0        18.0   11.0   19.0  14.0   \n",
       "4       2.0               16.0           14.0        18.0   13.0   11.0  30.0   \n",
       "..      ...                ...            ...         ...    ...    ...   ...   \n",
       "394     1.0               18.0           18.0         9.0   19.0   12.0   9.0   \n",
       "395     1.0               20.0           12.0         9.0   10.0   23.0  10.0   \n",
       "396     1.0               21.0           13.0        11.0   10.0   21.0  10.0   \n",
       "397     1.0               20.0           17.0        11.0   22.0   22.0  22.0   \n",
       "398     1.0               20.0            9.0         9.0   20.0   20.0  10.0   \n",
       "\n",
       "     ArmLength  ShoulderToWaist  WaistToKnee  LegLength  TotalHeight Size  \n",
       "0         22.0             25.0         25.0       22.0         52.0    L  \n",
       "1         28.0             23.0         25.0       20.0         56.0    M  \n",
       "2         21.0             18.0         14.0       18.0         53.0    L  \n",
       "3         24.0             21.0         20.0       21.0         45.0    M  \n",
       "4         25.0             22.0         32.0       13.0         47.0    M  \n",
       "..         ...              ...          ...        ...          ...  ...  \n",
       "394       14.0             11.0         13.0       21.0         42.0    L  \n",
       "395       12.0             17.0         12.0       22.0         45.0    M  \n",
       "396       13.0             17.0         12.0       22.0         45.0    M  \n",
       "397       17.0             12.0         12.0       22.0         40.0    S  \n",
       "398       14.0             11.0          9.0       17.0         37.0    M  \n",
       "\n",
       "[399 rows x 13 columns]"
      ]
     },
     "execution_count": 5,
     "metadata": {},
     "output_type": "execute_result"
    }
   ],
   "source": [
    "df = df.iloc[0:399, :]\n",
    "df"
   ]
  },
  {
   "cell_type": "code",
   "execution_count": 6,
   "metadata": {
    "colab": {
     "base_uri": "https://localhost:8080/",
     "height": 300
    },
    "id": "dqrWwRGSizYp",
    "outputId": "daf3e784-8418-46f4-c8cb-6e08342a4ea7"
   },
   "outputs": [
    {
     "data": {
      "text/html": [
       "<div>\n",
       "<style scoped>\n",
       "    .dataframe tbody tr th:only-of-type {\n",
       "        vertical-align: middle;\n",
       "    }\n",
       "\n",
       "    .dataframe tbody tr th {\n",
       "        vertical-align: top;\n",
       "    }\n",
       "\n",
       "    .dataframe thead th {\n",
       "        text-align: right;\n",
       "    }\n",
       "</style>\n",
       "<table border=\"1\" class=\"dataframe\">\n",
       "  <thead>\n",
       "    <tr style=\"text-align: right;\">\n",
       "      <th></th>\n",
       "      <th>Gender</th>\n",
       "      <th>HeadCircumference</th>\n",
       "      <th>ShoulderWidth</th>\n",
       "      <th>ChestWidth</th>\n",
       "      <th>Belly</th>\n",
       "      <th>Waist</th>\n",
       "      <th>Hips</th>\n",
       "      <th>ArmLength</th>\n",
       "      <th>ShoulderToWaist</th>\n",
       "      <th>WaistToKnee</th>\n",
       "      <th>LegLength</th>\n",
       "      <th>TotalHeight</th>\n",
       "    </tr>\n",
       "  </thead>\n",
       "  <tbody>\n",
       "    <tr>\n",
       "      <th>count</th>\n",
       "      <td>399.000000</td>\n",
       "      <td>399.000000</td>\n",
       "      <td>399.000000</td>\n",
       "      <td>399.000000</td>\n",
       "      <td>399.000000</td>\n",
       "      <td>399.000000</td>\n",
       "      <td>399.000000</td>\n",
       "      <td>399.000000</td>\n",
       "      <td>399.000000</td>\n",
       "      <td>399.000000</td>\n",
       "      <td>399.000000</td>\n",
       "      <td>399.000000</td>\n",
       "    </tr>\n",
       "    <tr>\n",
       "      <th>mean</th>\n",
       "      <td>1.350877</td>\n",
       "      <td>20.829574</td>\n",
       "      <td>16.117794</td>\n",
       "      <td>16.761905</td>\n",
       "      <td>19.150376</td>\n",
       "      <td>20.974937</td>\n",
       "      <td>21.335840</td>\n",
       "      <td>19.553885</td>\n",
       "      <td>20.228070</td>\n",
       "      <td>18.122807</td>\n",
       "      <td>28.441103</td>\n",
       "      <td>50.766917</td>\n",
       "    </tr>\n",
       "    <tr>\n",
       "      <th>std</th>\n",
       "      <td>0.477844</td>\n",
       "      <td>4.923641</td>\n",
       "      <td>5.400415</td>\n",
       "      <td>6.051367</td>\n",
       "      <td>13.291379</td>\n",
       "      <td>10.104200</td>\n",
       "      <td>9.775495</td>\n",
       "      <td>6.419699</td>\n",
       "      <td>5.490111</td>\n",
       "      <td>5.816063</td>\n",
       "      <td>9.401749</td>\n",
       "      <td>14.674125</td>\n",
       "    </tr>\n",
       "    <tr>\n",
       "      <th>min</th>\n",
       "      <td>1.000000</td>\n",
       "      <td>9.000000</td>\n",
       "      <td>5.000000</td>\n",
       "      <td>6.000000</td>\n",
       "      <td>5.000000</td>\n",
       "      <td>6.000000</td>\n",
       "      <td>7.000000</td>\n",
       "      <td>6.000000</td>\n",
       "      <td>7.000000</td>\n",
       "      <td>4.000000</td>\n",
       "      <td>9.000000</td>\n",
       "      <td>19.000000</td>\n",
       "    </tr>\n",
       "    <tr>\n",
       "      <th>25%</th>\n",
       "      <td>1.000000</td>\n",
       "      <td>19.000000</td>\n",
       "      <td>14.000000</td>\n",
       "      <td>12.000000</td>\n",
       "      <td>12.000000</td>\n",
       "      <td>14.000000</td>\n",
       "      <td>15.000000</td>\n",
       "      <td>16.000000</td>\n",
       "      <td>17.000000</td>\n",
       "      <td>14.000000</td>\n",
       "      <td>20.000000</td>\n",
       "      <td>42.000000</td>\n",
       "    </tr>\n",
       "    <tr>\n",
       "      <th>50%</th>\n",
       "      <td>1.000000</td>\n",
       "      <td>21.000000</td>\n",
       "      <td>17.000000</td>\n",
       "      <td>16.000000</td>\n",
       "      <td>17.000000</td>\n",
       "      <td>20.000000</td>\n",
       "      <td>20.000000</td>\n",
       "      <td>20.000000</td>\n",
       "      <td>20.000000</td>\n",
       "      <td>19.000000</td>\n",
       "      <td>29.000000</td>\n",
       "      <td>52.000000</td>\n",
       "    </tr>\n",
       "    <tr>\n",
       "      <th>75%</th>\n",
       "      <td>2.000000</td>\n",
       "      <td>23.000000</td>\n",
       "      <td>19.000000</td>\n",
       "      <td>20.000000</td>\n",
       "      <td>23.000000</td>\n",
       "      <td>25.000000</td>\n",
       "      <td>26.000000</td>\n",
       "      <td>23.000000</td>\n",
       "      <td>24.000000</td>\n",
       "      <td>21.000000</td>\n",
       "      <td>37.000000</td>\n",
       "      <td>60.000000</td>\n",
       "    </tr>\n",
       "    <tr>\n",
       "      <th>max</th>\n",
       "      <td>2.000000</td>\n",
       "      <td>80.000000</td>\n",
       "      <td>87.000000</td>\n",
       "      <td>38.000000</td>\n",
       "      <td>213.000000</td>\n",
       "      <td>91.000000</td>\n",
       "      <td>63.000000</td>\n",
       "      <td>66.000000</td>\n",
       "      <td>39.000000</td>\n",
       "      <td>45.000000</td>\n",
       "      <td>49.000000</td>\n",
       "      <td>89.000000</td>\n",
       "    </tr>\n",
       "  </tbody>\n",
       "</table>\n",
       "</div>"
      ],
      "text/plain": [
       "           Gender  HeadCircumference  ShoulderWidth  ChestWidth       Belly  \\\n",
       "count  399.000000         399.000000     399.000000  399.000000  399.000000   \n",
       "mean     1.350877          20.829574      16.117794   16.761905   19.150376   \n",
       "std      0.477844           4.923641       5.400415    6.051367   13.291379   \n",
       "min      1.000000           9.000000       5.000000    6.000000    5.000000   \n",
       "25%      1.000000          19.000000      14.000000   12.000000   12.000000   \n",
       "50%      1.000000          21.000000      17.000000   16.000000   17.000000   \n",
       "75%      2.000000          23.000000      19.000000   20.000000   23.000000   \n",
       "max      2.000000          80.000000      87.000000   38.000000  213.000000   \n",
       "\n",
       "            Waist        Hips   ArmLength  ShoulderToWaist  WaistToKnee  \\\n",
       "count  399.000000  399.000000  399.000000       399.000000   399.000000   \n",
       "mean    20.974937   21.335840   19.553885        20.228070    18.122807   \n",
       "std     10.104200    9.775495    6.419699         5.490111     5.816063   \n",
       "min      6.000000    7.000000    6.000000         7.000000     4.000000   \n",
       "25%     14.000000   15.000000   16.000000        17.000000    14.000000   \n",
       "50%     20.000000   20.000000   20.000000        20.000000    19.000000   \n",
       "75%     25.000000   26.000000   23.000000        24.000000    21.000000   \n",
       "max     91.000000   63.000000   66.000000        39.000000    45.000000   \n",
       "\n",
       "        LegLength  TotalHeight  \n",
       "count  399.000000   399.000000  \n",
       "mean    28.441103    50.766917  \n",
       "std      9.401749    14.674125  \n",
       "min      9.000000    19.000000  \n",
       "25%     20.000000    42.000000  \n",
       "50%     29.000000    52.000000  \n",
       "75%     37.000000    60.000000  \n",
       "max     49.000000    89.000000  "
      ]
     },
     "execution_count": 6,
     "metadata": {},
     "output_type": "execute_result"
    }
   ],
   "source": [
    "df.describe()"
   ]
  },
  {
   "cell_type": "code",
   "execution_count": 7,
   "metadata": {
    "colab": {
     "base_uri": "https://localhost:8080/"
    },
    "id": "BaVq-VZ1jkYJ",
    "outputId": "b6010bb3-e39b-4406-d087-f1780eabe2df"
   },
   "outputs": [
    {
     "data": {
      "text/plain": [
       "(399, 13)"
      ]
     },
     "execution_count": 7,
     "metadata": {},
     "output_type": "execute_result"
    }
   ],
   "source": [
    "df.shape"
   ]
  },
  {
   "cell_type": "code",
   "execution_count": 8,
   "metadata": {
    "colab": {
     "base_uri": "https://localhost:8080/"
    },
    "id": "0bMKqZ2Mjt8q",
    "outputId": "e89c2cf3-a922-4671-8f47-dcd2bdbe7f81"
   },
   "outputs": [
    {
     "name": "stdout",
     "output_type": "stream",
     "text": [
      "<class 'pandas.core.frame.DataFrame'>\n",
      "RangeIndex: 399 entries, 0 to 398\n",
      "Data columns (total 13 columns):\n",
      " #   Column             Non-Null Count  Dtype  \n",
      "---  ------             --------------  -----  \n",
      " 0   Gender             399 non-null    float64\n",
      " 1   HeadCircumference  399 non-null    float64\n",
      " 2   ShoulderWidth      399 non-null    float64\n",
      " 3   ChestWidth         399 non-null    float64\n",
      " 4   Belly              399 non-null    float64\n",
      " 5   Waist              399 non-null    float64\n",
      " 6   Hips               399 non-null    float64\n",
      " 7   ArmLength          399 non-null    float64\n",
      " 8   ShoulderToWaist    399 non-null    float64\n",
      " 9   WaistToKnee        399 non-null    float64\n",
      " 10  LegLength          399 non-null    float64\n",
      " 11  TotalHeight        399 non-null    float64\n",
      " 12  Size               399 non-null    object \n",
      "dtypes: float64(12), object(1)\n",
      "memory usage: 40.6+ KB\n"
     ]
    }
   ],
   "source": [
    "df.info()"
   ]
  },
  {
   "cell_type": "code",
   "execution_count": 9,
   "metadata": {
    "colab": {
     "base_uri": "https://localhost:8080/"
    },
    "id": "5x0AbFAFkAiB",
    "outputId": "172647b0-657a-4628-89b9-ef13bbb3f9b6"
   },
   "outputs": [
    {
     "name": "stdout",
     "output_type": "stream",
     "text": [
      "Gender => [1. 2.]\n",
      "-------------***-----------------\n",
      "\n",
      "HeadCircumference => [40. 19. 21. 20. 16. 17. 25. 18. 15. 23. 24. 80. 28. 29. 14. 22. 27. 26.\n",
      " 12. 13. 11. 10.  9.]\n",
      "-------------***-----------------\n",
      "\n",
      "ShoulderWidth => [18. 22. 20. 14. 19. 17. 15. 16. 28. 21.  9. 13.  7. 11. 10.  8. 12. 23.\n",
      "  6.  5. 87. 26.]\n",
      "-------------***-----------------\n",
      "\n",
      "ChestWidth => [20. 17. 16. 18. 19. 28. 21. 22. 14. 15. 10.  8. 13. 11.  7. 12.  9. 23.\n",
      "  6. 26. 27. 31. 37. 38. 32. 29. 25. 30.]\n",
      "-------------***-----------------\n",
      "\n",
      "Belly => [ 18.  14.  11.  13.  17.  15.  12.  16.   9.  19.  10.   8.   6.  22.\n",
      "  21.   7.  20. 213.  23.  24.   5.  29.  30.  34.  37.  27.  28.  25.\n",
      "  32.  36.  26.  44.  42.  33.  46.  41.  45.  47.  40.  43.  35.  31.]\n",
      "-------------***-----------------\n",
      "\n",
      "Waist => [14. 21. 10. 19. 11. 16. 12. 23. 22. 91. 18. 20. 24. 25. 17. 15. 13.  9.\n",
      "  7.  8. 50. 49. 36. 26. 60. 31. 29. 52. 40. 27.  6. 30. 32. 37. 41. 28.\n",
      " 33. 34. 42. 38. 48. 47. 45. 39. 43. 44. 35.]\n",
      "-------------***-----------------\n",
      "\n",
      "Hips => [22. 25. 15. 14. 30. 18. 28. 27. 17. 21. 19. 23. 24. 20. 35. 16. 10.  9.\n",
      " 11. 13.  8. 12. 36. 44.  7. 34. 26. 37. 38. 32. 29. 31. 42. 46. 39. 63.\n",
      " 45. 62. 41. 40. 59.]\n",
      "-------------***-----------------\n",
      "\n",
      "ArmLength => [22. 28. 21. 24. 25. 20. 23. 19. 15. 16. 17. 18. 11. 14. 10.  7. 26.  9.\n",
      " 13. 12. 40. 41. 66.  8. 30. 27.  6. 29. 31.]\n",
      "-------------***-----------------\n",
      "\n",
      "ShoulderToWaist => [25. 23. 18. 21. 22. 24. 19. 26. 17. 20. 27. 28. 16. 15.  8. 11. 39.  9.\n",
      " 10. 13. 12. 36. 33. 14.  7. 29. 30. 31. 32.]\n",
      "-------------***-----------------\n",
      "\n",
      "WaistToKnee => [25. 14. 20. 32. 21. 19. 18. 17. 23. 16. 11. 12. 13. 22.  8.  7. 24. 26.\n",
      "  9. 15. 27. 30. 29.  6. 10. 45. 28.  4.]\n",
      "-------------***-----------------\n",
      "\n",
      "LegLength => [22. 20. 18. 21. 13. 19. 17. 24. 15.  9. 30. 31. 28. 39. 27. 23. 14. 38.\n",
      " 37. 46. 34. 26. 41. 33. 42. 36. 16. 29. 49. 40. 32. 45. 25. 44. 12. 43.\n",
      " 11. 35.]\n",
      "-------------***-----------------\n",
      "\n",
      "TotalHeight => [52. 56. 53. 45. 47. 60. 49. 58. 40. 55. 50. 59. 51. 57. 48. 42. 44. 54.\n",
      " 31. 30. 33. 39. 25. 72. 34. 38. 43. 23. 62. 24. 61. 37. 75. 73. 46. 41.\n",
      " 63. 64. 69. 67. 68. 66. 32. 35. 20. 21. 36. 70. 22. 80. 79. 71. 19. 27.\n",
      " 74. 85. 86. 89. 78. 82. 87. 65.]\n",
      "-------------***-----------------\n",
      "\n",
      "Size => ['L' 'M' 'S' 'XS']\n",
      "-------------***-----------------\n",
      "\n"
     ]
    }
   ],
   "source": [
    "for i in df.columns :\n",
    "  print(f'{i} => {df[i].unique()}\\n-------------***-----------------\\n')"
   ]
  },
  {
   "cell_type": "code",
   "execution_count": 10,
   "metadata": {
    "colab": {
     "base_uri": "https://localhost:8080/",
     "height": 721
    },
    "id": "02c4gLLIkbvx",
    "outputId": "6e052386-75aa-431e-f968-fdc82f267cae"
   },
   "outputs": [
    {
     "data": {
      "image/png": "[encoded data removed]",
      "text/plain": [
       "<Figure size 1728x864 with 11 Axes>"
      ]
     },
     "metadata": {
      "needs_background": "light"
     },
     "output_type": "display_data"
    }
   ],
   "source": [
    "# Selecting only continuous variables\n",
    "continuous_vars = ['HeadCircumference', 'ShoulderWidth', 'ChestWidth', 'Belly',\n",
    "       'Waist', 'Hips', 'ArmLength', 'ShoulderToWaist', 'WaistToKnee',\n",
    "       'LegLength', 'TotalHeight']\n",
    "\n",
    "# Plot boxplots for continuous variables to detect outliers\n",
    "plt.figure(figsize=(24, 12))\n",
    "for i, var in enumerate(continuous_vars):\n",
    "    plt.subplot(4, 3, i+1)\n",
    "    sns.boxplot(data=df[var])\n",
    "    plt.title(var)\n",
    "plt.tight_layout()\n",
    "plt.show()"
   ]
  },
  {
   "cell_type": "code",
   "execution_count": 11,
   "metadata": {
    "colab": {
     "base_uri": "https://localhost:8080/"
    },
    "id": "JEKwuzvfnlFN",
    "outputId": "45bc4572-2066-46a7-d9c7-a6c6a891cfa4"
   },
   "outputs": [
    {
     "name": "stderr",
     "output_type": "stream",
     "text": [
      "<ipython-input-11-072ddf0e7370>:5: SettingWithCopyWarning: \n",
      "A value is trying to be set on a copy of a slice from a DataFrame.\n",
      "Try using .loc[row_indexer,col_indexer] = value instead\n",
      "\n",
      "See the caveats in the documentation: https://pandas.pydata.org/pandas-docs/stable/user_guide/indexing.html#returning-a-view-versus-a-copy\n",
      "  df[var] = np.clip(df[var], lower_bound, upper_bound)\n"
     ]
    }
   ],
   "source": [
    "#Remove or clip outliers between 5th and 95th percentiles\n",
    "for var in continuous_vars:\n",
    "    lower_bound = np.percentile(df[var], 5)\n",
    "    upper_bound = np.percentile(df[var], 95)\n",
    "    df[var] = np.clip(df[var], lower_bound, upper_bound)"
   ]
  },
  {
   "cell_type": "code",
   "execution_count": 12,
   "metadata": {
    "colab": {
     "base_uri": "https://localhost:8080/",
     "height": 721
    },
    "id": "MwImlhxonmV_",
    "outputId": "5a7afd9c-029f-4dba-a364-dd257b32ff0c"
   },
   "outputs": [
    {
     "data": {
      "image/png": "[encoded data removed]",
      "text/plain": [
       "<Figure size 1728x864 with 11 Axes>"
      ]
     },
     "metadata": {
      "needs_background": "light"
     },
     "output_type": "display_data"
    }
   ],
   "source": [
    "# Selecting only continuous variables\n",
    "continuous_vars = ['HeadCircumference', 'ShoulderWidth', 'ChestWidth', 'Belly',\n",
    "       'Waist', 'Hips', 'ArmLength', 'ShoulderToWaist', 'WaistToKnee',\n",
    "       'LegLength', 'TotalHeight']\n",
    "\n",
    "# Plot boxplots for continuous variables to detect outliers\n",
    "plt.figure(figsize=(24, 12))\n",
    "for i, var in enumerate(continuous_vars):\n",
    "    plt.subplot(4, 3, i+1)\n",
    "    sns.boxplot(data=df[var])\n",
    "    plt.title(var)\n",
    "plt.tight_layout()\n",
    "plt.show()"
   ]
  },
  {
   "cell_type": "code",
   "execution_count": 13,
   "metadata": {
    "colab": {
     "base_uri": "https://localhost:8080/",
     "height": 466
    },
    "id": "-Owo6Zj6nyFH",
    "outputId": "4c8657ab-3017-4924-823e-a1718d0a2a3b"
   },
   "outputs": [
    {
     "data": {
      "text/plain": [
       "<AxesSubplot:xlabel='Gender', ylabel='count'>"
      ]
     },
     "execution_count": 13,
     "metadata": {},
     "output_type": "execute_result"
    },
    {
     "data": {
      "image/png": "[encoded data removed]",
      "text/plain": [
       "<Figure size 432x288 with 1 Axes>"
      ]
     },
     "metadata": {
      "needs_background": "light"
     },
     "output_type": "display_data"
    }
   ],
   "source": [
    "sns.countplot(data=df, x = 'Gender', hue = 'Size')"
   ]
  },
  {
   "cell_type": "code",
   "execution_count": 14,
   "metadata": {
    "id": "4sV6fowjr8H0"
   },
   "outputs": [],
   "source": [
    "from sklearn.model_selection import train_test_split\n",
    "from sklearn.preprocessing import LabelEncoder\n",
    "from sklearn.ensemble import RandomForestClassifier\n",
    "from sklearn.naive_bayes import GaussianNB\n",
    "from sklearn.naive_bayes import MultinomialNB\n",
    "from sklearn.metrics import accuracy_score"
   ]
  },
  {
   "cell_type": "code",
   "execution_count": 15,
   "metadata": {
    "id": "BEqcz-cWt4Y7"
   },
   "outputs": [
    {
     "name": "stdout",
     "output_type": "stream",
     "text": [
      "     Gender  HeadCircumference  ShoulderWidth  ChestWidth  Belly  Waist  Hips  \\\n",
      "0       1.0               27.1           18.0        20.0   18.0   14.0  22.0   \n",
      "1       1.0               19.0           21.0        17.0   18.0   21.0  25.0   \n",
      "2       2.0               21.0           18.0        16.0   14.0   10.0  15.0   \n",
      "3       1.0               20.0           20.0        18.0   11.0   19.0  14.0   \n",
      "4       2.0               16.0           14.0        18.0   13.0   11.0  30.0   \n",
      "..      ...                ...            ...         ...    ...    ...   ...   \n",
      "394     1.0               18.0           18.0         9.0   19.0   12.0  10.0   \n",
      "395     1.0               20.0           12.0         9.0   10.0   23.0  10.0   \n",
      "396     1.0               21.0           13.0        11.0   10.0   21.0  10.0   \n",
      "397     1.0               20.0           17.0        11.0   22.0   22.0  22.0   \n",
      "398     1.0               20.0            9.0         9.0   20.0   20.0  10.0   \n",
      "\n",
      "     ArmLength  ShoulderToWaist  WaistToKnee  LegLength  TotalHeight  \n",
      "0         22.0             25.0         25.0       22.0         52.0  \n",
      "1         28.0             23.0         25.0       20.0         56.0  \n",
      "2         21.0             18.0         14.0       18.0         53.0  \n",
      "3         24.0             21.0         20.0       21.0         45.0  \n",
      "4         25.0             22.0         28.0       13.0         47.0  \n",
      "..         ...              ...          ...        ...          ...  \n",
      "394       14.0             11.0         13.0       21.0         42.0  \n",
      "395       12.0             17.0         12.0       22.0         45.0  \n",
      "396       13.0             17.0         12.0       22.0         45.0  \n",
      "397       17.0             12.0         12.0       22.0         40.0  \n",
      "398       14.0             11.0          9.0       17.0         37.0  \n",
      "\n",
      "[399 rows x 12 columns] 0      L\n",
      "1      M\n",
      "2      L\n",
      "3      M\n",
      "4      M\n",
      "      ..\n",
      "394    L\n",
      "395    M\n",
      "396    M\n",
      "397    S\n",
      "398    M\n",
      "Name: Size, Length: 399, dtype: object\n"
     ]
    }
   ],
   "source": [
    "data = df\n",
    "X = data.drop(columns=['Size'])  # Features\n",
    "y = data['Size']  # Target\n",
    "print(X, y)"
   ]
  },
  {
   "cell_type": "code",
   "execution_count": 16,
   "metadata": {
    "id": "hPwgCYlOuBnx"
   },
   "outputs": [],
   "source": [
    "le = LabelEncoder()\n",
    "X['Gender'] = le.fit_transform(X['Gender'])  # Label encoding for 'Gender'"
   ]
  },
  {
   "cell_type": "code",
   "execution_count": 17,
   "metadata": {
    "id": "_AUeRO2auZch"
   },
   "outputs": [
    {
     "name": "stdout",
     "output_type": "stream",
     "text": [
      "     Gender  HeadCircumference  ShoulderWidth  ChestWidth  Belly  Waist  Hips  \\\n",
      "3         0               20.0           20.0        18.0   11.0   19.0  14.0   \n",
      "18        0               20.0           16.0        28.0   18.0   17.0  23.0   \n",
      "377       1               19.0            9.0        16.0   20.0   18.0  21.0   \n",
      "248       1               13.0           21.0        15.0   13.0   12.0  14.0   \n",
      "177       1               21.0           14.0        15.0   21.0   14.0  12.0   \n",
      "..      ...                ...            ...         ...    ...    ...   ...   \n",
      "71        0               15.0            8.0         8.0    8.0    9.0  10.0   \n",
      "106       0               23.0           16.0        11.0   10.0   14.0  14.0   \n",
      "270       0               27.1           20.0        28.0   30.0   32.0  38.0   \n",
      "348       0               22.0           14.0        16.0   34.0   20.0  38.0   \n",
      "102       1               20.0           19.0        13.0   12.0   16.0  17.0   \n",
      "\n",
      "     ArmLength  ShoulderToWaist  WaistToKnee  LegLength  TotalHeight  \n",
      "3         24.0             21.0         20.0       21.0         45.0  \n",
      "18        16.0             27.0         23.0       13.0         48.0  \n",
      "377       19.0             11.0          9.0       16.0         35.0  \n",
      "248        9.0             10.0          8.0       13.0         23.0  \n",
      "177       12.0             16.0         11.0       25.0         30.0  \n",
      "..         ...              ...          ...        ...          ...  \n",
      "71        10.0             11.0          8.0       17.0         23.0  \n",
      "106       25.0             25.0         20.0       39.0         53.0  \n",
      "270       28.0             28.0         27.0       41.0         72.1  \n",
      "348       24.0             19.0         19.0       35.0         64.0  \n",
      "102        9.0             27.0         19.0       39.0         43.0  \n",
      "\n",
      "[319 rows x 12 columns]      Gender  HeadCircumference  ShoulderWidth  ChestWidth  Belly  Waist  Hips  \\\n",
      "198       0               21.0           15.0        13.0   11.0    9.0  13.0   \n",
      "349       1               21.0           18.0        19.0   34.0   37.0  39.0   \n",
      "33        0               24.0           19.0        16.0   15.0   19.0  21.0   \n",
      "208       0               27.0           17.0        20.0   18.0   21.0  22.0   \n",
      "93        0               16.0           14.0        12.0   10.0   13.0  19.0   \n",
      "..      ...                ...            ...         ...    ...    ...   ...   \n",
      "249       1               13.0            8.0        16.0   13.0   12.0  15.0   \n",
      "225       0               22.0           19.0        15.0   14.0   14.0  15.0   \n",
      "368       0               22.0           17.0        16.0   35.0   36.0  37.0   \n",
      "175       1               22.0           17.0        20.0   16.0   20.0  20.0   \n",
      "285       0               24.0           15.0        20.0   22.0   21.0  20.0   \n",
      "\n",
      "     ArmLength  ShoulderToWaist  WaistToKnee  LegLength  TotalHeight  \n",
      "198       21.0             17.0         20.0       42.0         42.0  \n",
      "349       22.0             17.0         15.0       33.0         59.0  \n",
      "33        17.0             24.0         12.0       28.0         60.0  \n",
      "208       23.0             22.0         19.0       39.0         55.0  \n",
      "93        15.0             20.0         11.0       22.0         33.0  \n",
      "..         ...              ...          ...        ...          ...  \n",
      "249       10.0             10.0          8.0       13.0         23.0  \n",
      "225       24.0             26.0         22.0       42.0         72.0  \n",
      "368       25.0             22.0         23.0       36.0         67.0  \n",
      "175       20.0             20.0         19.0       30.0         50.0  \n",
      "285       21.0             22.0         16.0       30.0         61.0  \n",
      "\n",
      "[80 rows x 12 columns] 3      M\n",
      "18     M\n",
      "377    M\n",
      "248    M\n",
      "177    M\n",
      "      ..\n",
      "71     M\n",
      "106    M\n",
      "270    M\n",
      "348    M\n",
      "102    M\n",
      "Name: Size, Length: 319, dtype: object 198    M\n",
      "349    L\n",
      "33     M\n",
      "208    S\n",
      "93     M\n",
      "      ..\n",
      "249    M\n",
      "225    M\n",
      "368    S\n",
      "175    M\n",
      "285    M\n",
      "Name: Size, Length: 80, dtype: object\n"
     ]
    }
   ],
   "source": [
    "#Split data into train and test sets\n",
    "X_train, X_test, y_train, y_test = train_test_split(X, y, test_size=0.2, random_state=42)\n",
    "print(X_train, X_test, y_train, y_test)"
   ]
  },
  {
   "cell_type": "code",
   "execution_count": 18,
   "metadata": {},
   "outputs": [],
   "source": [
    "#Initialize the model\n",
    "rf = RandomForestClassifier(random_state=42)\n",
    "gnb = GaussianNB()\n",
    "mnb = MultinomialNB()"
   ]
  },
  {
   "cell_type": "code",
   "execution_count": 19,
   "metadata": {
    "id": "KRvnJyhvu0c5"
   },
   "outputs": [
    {
     "data": {
      "text/plain": [
       "MultinomialNB()"
      ]
     },
     "execution_count": 19,
     "metadata": {},
     "output_type": "execute_result"
    }
   ],
   "source": [
    "#Training the Models\n",
    "rf.fit(X_train, y_train)\n",
    "gnb.fit(X_train, y_train)\n",
    "mnb.fit(X_train, y_train)\n"
   ]
  },
  {
   "cell_type": "code",
   "execution_count": 20,
   "metadata": {},
   "outputs": [],
   "source": [
    "#Predictions\n",
    "y_pred_rf = rf.predict(X_test)\n",
    "y_pred_gnb = gnb.predict(X_test)\n",
    "y_pred_mnb = mnb.predict(X_test)"
   ]
  },
  {
   "cell_type": "code",
   "execution_count": 21,
   "metadata": {
    "colab": {
     "base_uri": "https://localhost:8080/"
    },
    "id": "aSE5XIHdu5mB",
    "outputId": "cc4ea38c-4feb-4b28-96d6-2c8399f3ba79"
   },
   "outputs": [
    {
     "name": "stdout",
     "output_type": "stream",
     "text": [
      "Random Forest Accuracy: 96.25 %\n",
      "Gaussian Naive Bayes Accuracy: 93.75 %\n",
      "Multinomial Naive Bayes Accuracy: 53.75 %\n"
     ]
    }
   ],
   "source": [
    "#Evaluation\n",
    "accuracy_rf = accuracy_score(y_test, y_pred_rf)\n",
    "print(\"Random Forest Accuracy:\", accuracy_rf * 100, \"%\")\n",
    "accuracy_gnb = accuracy_score(y_test, y_pred_gnb)\n",
    "print(\"Gaussian Naive Bayes Accuracy:\", accuracy_gnb * 100, \"%\")\n",
    "accuracy_mnb = accuracy_score(y_test, y_pred_mnb)\n",
    "print(\"Multinomial Naive Bayes Accuracy:\", accuracy_mnb * 100, \"%\")"
   ]
  },
  {
   "cell_type": "code",
   "execution_count": 22,
   "metadata": {
    "colab": {
     "base_uri": "https://localhost:8080/"
    },
    "id": "-mWYn-xzu8KJ",
    "outputId": "271632a1-3bca-4f55-c471-2d389acee295"
   },
   "outputs": [
    {
     "data": {
      "text/plain": [
       "array(['S'], dtype=object)"
      ]
     },
     "execution_count": 22,
     "metadata": {},
     "output_type": "execute_result"
    }
   ],
   "source": [
    "rf.predict([X.iloc[6]])"
   ]
  },
  {
   "cell_type": "code",
   "execution_count": 23,
   "metadata": {
    "colab": {
     "base_uri": "https://localhost:8080/",
     "height": 36
    },
    "id": "_bTWven8vlPR",
    "outputId": "ebcdd0dc-dd2e-4cfd-dae9-85f767b7c536"
   },
   "outputs": [
    {
     "data": {
      "text/plain": [
       "'S'"
      ]
     },
     "execution_count": 23,
     "metadata": {},
     "output_type": "execute_result"
    }
   ],
   "source": [
    "y.iloc[6]"
   ]
  },
  {
   "cell_type": "code",
   "execution_count": null,
   "metadata": {
    "id": "V-UF4TwAwI5o"
   },
   "outputs": [],
   "source": []
  },
  {
   "cell_type": "code",
   "execution_count": null,
   "metadata": {},
   "outputs": [],
   "source": []
  },
  {
   "cell_type": "code",
   "execution_count": null,
   "metadata": {},
   "outputs": [],
   "source": []
  },
  {
   "cell_type": "code",
   "execution_count": null,
   "metadata": {},
   "outputs": [],
   "source": []
  },
  {
   "cell_type": "code",
   "execution_count": null,
   "metadata": {},
   "outputs": [],
   "source": []
  },
  {
   "cell_type": "code",
   "execution_count": null,
   "metadata": {},
   "outputs": [],
   "source": []
  },
  {
   "cell_type": "code",
   "execution_count": null,
   "metadata": {},
   "outputs": [],
   "source": []
  },
  {
   "cell_type": "code",
   "execution_count": null,
   "metadata": {},
   "outputs": [],
   "source": []
  },
  {
   "cell_type": "code",
   "execution_count": null,
   "metadata": {},
   "outputs": [],
   "source": []
  },
  {
   "cell_type": "code",
   "execution_count": null,
   "metadata": {},
   "outputs": [],
   "source": []
  },
  {
   "cell_type": "code",
   "execution_count": null,
   "metadata": {},
   "outputs": [],
   "source": []
  },
  {
   "cell_type": "code",
   "execution_count": null,
   "metadata": {},
   "outputs": [],
   "source": []
  }
 ],
 "metadata": {
  "colab": {
   "authorship_tag": "ABX9TyPf0aL4qoGiQxx0LmDU9wVs",
   "include_colab_link": true,
   "provenance": []
  },
  "kernelspec": {
   "display_name": "Python 3",
   "language": "python",
   "name": "python3"
  },
  "language_info": {
   "codemirror_mode": {
    "name": "ipython",
    "version": 3
   },
   "file_extension": ".py",
   "mimetype": "text/x-python",
   "name": "python",
   "nbconvert_exporter": "python",
   "pygments_lexer": "ipython3",
   "version": "3.8.8"
  }
 },
 "nbformat": 4,
 "nbformat_minor": 1
}
